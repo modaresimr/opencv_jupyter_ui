{
 "cells": [
  {
   "cell_type": "markdown",
   "id": "e6f91269",
   "metadata": {},
   "source": [
    "# Installation\n",
    "# Skip this step if you are in Binder"
   ]
  },
  {
   "cell_type": "code",
   "execution_count": null,
   "id": "d65bfba0",
   "metadata": {},
   "outputs": [],
   "source": [
    "!pip install -U opencv_jupyter_ui\n",
    "import sys\n",
    "if 'google.colab' in sys.modules:\n",
    "    !pip install -q ipycanvas==0.11\n",
    "else:\n",
    "    # run the following in the console as root if you get permission error\n",
    "    !jupyter nbextension install --py --symlink --sys-prefix ipycanvas\n",
    "    !jupyter nbextension enable --py --sys-prefix ipycanvas\n",
    "    # !conda install -c conda-forge nodejs  # run this if you don't have nodejs\n",
    "    !jupyter labextension install @jupyter-widgets/jupyterlab-manager ipycanvas"
   ]
  },
  {
   "cell_type": "markdown",
   "id": "aa664e6c",
   "metadata": {},
   "source": [
    "# Enable custom widget in Colab\n",
    "## Skip this step if you are not in Colab"
   ]
  },
  {
   "cell_type": "code",
   "execution_count": null,
   "id": "919c7e67",
   "metadata": {},
   "outputs": [],
   "source": [
    "import sys\n",
    "if 'google.colab' in sys.modules:\n",
    "    from google.colab import output\n",
    "    output.enable_custom_widget_manager()"
   ]
  },
  {
   "cell_type": "markdown",
   "id": "cc502263",
   "metadata": {},
   "source": [
    "# Demo Generate Example Frame"
   ]
  },
  {
   "cell_type": "code",
   "execution_count": 1,
   "id": "7be0a1c4",
   "metadata": {},
   "outputs": [],
   "source": [
    "def getTestCV2Frame(i):\n",
    "\timport numpy as np\n",
    "\tx = np.linspace(-1, 1, 200)\n",
    "\ty = np.linspace(-1, 1, 200)\n",
    "\tx_grid, y_grid = np.meshgrid(x, y)\n",
    "\tblue_channel = np.array(np.sin(x_grid**2 + y_grid**2) * 255, dtype=np.int32)\n",
    "\tred_channel = (np.zeros_like(blue_channel) + 200*i)%222\n",
    "\tgreen_channel = np.zeros_like(blue_channel) + 50\n",
    "\treturn np.stack((red_channel, blue_channel, green_channel), axis=2)"
   ]
  },
  {
   "cell_type": "markdown",
   "id": "5e82241e",
   "metadata": {},
   "source": [
    "# Display using opencv_jupyter_ui"
   ]
  },
  {
   "cell_type": "code",
   "execution_count": 2,
   "id": "1ad23154",
   "metadata": {},
   "outputs": [
    {
     "data": {
      "application/vnd.jupyter.widget-view+json": {
       "model_id": "b0a545a6beb04c2885e2bc42306517b0",
       "version_major": 2,
       "version_minor": 0
      },
      "text/plain": [
       "HBox(children=(Button(button_style='danger', description='Stop', style=ButtonStyle()), HBox(children=(Label(va…"
      ]
     },
     "metadata": {},
     "output_type": "display_data"
    },
    {
     "data": {
      "application/vnd.jupyter.widget-view+json": {
       "model_id": "6989638579934c20bff50964e5e7a8f4",
       "version_major": 2,
       "version_minor": 0
      },
      "text/plain": [
       "HBox(children=(Button(button_style='danger', description='Stop', style=ButtonStyle()), HBox(children=(Label(va…"
      ]
     },
     "metadata": {},
     "output_type": "display_data"
    },
    {
     "data": {
      "application/vnd.jupyter.widget-view+json": {
       "model_id": "326fa8a288a04b20a287cadfbe7f01be",
       "version_major": 2,
       "version_minor": 0
      },
      "text/plain": [
       "VBox(children=(HTML(value='<center>test</center>'), Canvas()), layout=Layout(border='1.5px solid', width='fit-…"
      ]
     },
     "metadata": {},
     "output_type": "display_data"
    }
   ],
   "source": [
    "import opencv_jupyter_ui as jcv2\n",
    "for i in range(200):\n",
    "\tframe= getTestCV2Frame(i) \n",
    "\t# frame = cv2.imread('img.png')  # you can use cv2.imread instead of test Frame function\n",
    "\tjcv2.imshow('test',frame)\n",
    "\tif jcv2.waitKey(1000)==ord('q'):\n",
    "\t\tbreak\n",
    "jcv2.destroyAllWindows()"
   ]
  }
 ],
 "metadata": {
  "kernelspec": {
   "display_name": "Python 3 (ipykernel)",
   "language": "python",
   "name": "python3"
  },
  "language_info": {
   "codemirror_mode": {
    "name": "ipython",
    "version": 3
   },
   "file_extension": ".py",
   "mimetype": "text/x-python",
   "name": "python",
   "nbconvert_exporter": "python",
   "pygments_lexer": "ipython3",
   "version": "3.9.0"
  }
 },
 "nbformat": 4,
 "nbformat_minor": 5
}

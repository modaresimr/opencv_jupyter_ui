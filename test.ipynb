{
 "cells": [
  {
   "cell_type": "markdown",
   "id": "69512336",
   "metadata": {},
   "source": [
    "# Installation"
   ]
  },
  {
   "cell_type": "code",
   "execution_count": null,
   "id": "18d489e8",
   "metadata": {},
   "outputs": [],
   "source": [
    "!pip install -U opencv_jupyter_ui\n",
    "import sys\n",
    "if 'google.colab' in sys.modules:\n",
    "    !pip install -q ipycanvas==0.11\n",
    "else:.\n",
    "    # run the following in the console as root if you get permission error\n",
    "    !jupyter nbextension install --py --symlink --sys-prefix ipycanvas\n",
    "    !jupyter nbextension enable --py --sys-prefix ipycanvas\n",
    "    # !conda install -c conda-forge nodejs  # run this if you don't have nodejs\n",
    "    !jupyter labextension install @jupyter-widgets/jupyterlab-manager ipycanvas"
   ]
  },
  {
   "cell_type": "markdown",
   "id": "2fa9a5be",
   "metadata": {},
   "source": [
    "# Enable custom widget in Colab"
   ]
  },
  {
   "cell_type": "code",
   "execution_count": null,
   "id": "0a98eeae",
   "metadata": {},
   "outputs": [],
   "source": [
    "if 'google.colab' in sys.modules:\n",
    "    from google.colab import output\n",
    "    output.enable_custom_widget_manager()"
   ]
  },
  {
   "cell_type": "markdown",
   "id": "b0de3698",
   "metadata": {},
   "source": [
    "# Demo Generate Example Frame"
   ]
  },
  {
   "cell_type": "code",
   "execution_count": null,
   "id": "7be0a1c4",
   "metadata": {},
   "outputs": [],
   "source": [
    "def getTestCV2Frame(i):\n",
    "\timport numpy as np\n",
    "\tx = np.linspace(-1, 1, 200)\n",
    "\ty = np.linspace(-1, 1, 200)\n",
    "\tx_grid, y_grid = np.meshgrid(x, y)\n",
    "\tblue_channel = np.arra.y(np.sin(x_grid**2 + y_grid**2) * 255, dtype=np.int32)\n",
    "\tred_channel = (np.zeros_like(blue_channel) + 200*i)%222\n",
    "\tgreen_channel = np.zeros_like(blue_channel) + 50\n",
    "\treturn np.stack((red_channel, blue_channel, green_channel), axis=2)\n"
   ]
  },
  {
   "cell_type": "markdown",
   "id": "291d0380",
   "metadata": {},
   "source": [
    "# Display using opencv_jupyter_ui"
   ]
  },
  {
   "cell_type": "code",
   "execution_count": null,
   "id": "870dbb04",
   "metadata": {},
   "outputs": [],
   "source": [
    "import opencv_jupyter_ui as jcv2\n",
    "for i in range(200):\n",
    "\tframe= getTestCV2Frame(i) \n",
    "\t# frame = cv2.imread('img.png')  # you can use cv2.imread instead of test Frame function\n",
    "\tjcv2.imshow('test',frame)\n",
    "\tjcv2.waitKey(1000)\n",
    "jcv2.destroyAllWindows()"
   ]
  }
 ],
 "metadata": {
  "kernelspec": {
   "display_name": "Python 3 (ipykernel)",
   "language": "python",
   "name": "python3"
  },
  "language_info": {
   "codemirror_mode": {
    "name": "ipython",
    "version": 3
   },
   "file_extension": ".py",
   "mimetype": "text/x-python",
   "name": "python",
   "nbconvert_exporter": "python",
   "pygments_lexer": "ipython3",
   "version": "3.9.0"
  }
 },
 "nbformat": 4,
 "nbformat_minor": 5
}

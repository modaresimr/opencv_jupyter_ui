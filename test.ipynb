{
 "cells": [
  {
   "cell_type": "code",
   "execution_count": null,
   "id": "7be0a1c4",
   "metadata": {},
   "outputs": [],
   "source": [
    "from opencv_jupyter_ui import cv2_imshow\n",
    "\n",
    "def getTestCV2Frame(i):\n",
    "\timport numpy as np\n",
    "\tx = np.linspace(-1, 1, 200)\n",
    "\ty = np.linspace(-1, 1, 200)\n",
    "\tx_grid, y_grid = np.meshgrid(x, y)\n",
    "\tblue_channel = np.array(np.sin(x_grid**2 + y_grid**2) * 255, dtype=np.int32)\n",
    "\tred_channel = (np.zeros_like(blue_channel) + 200*i)%222\n",
    "\tgreen_channel = np.zeros_like(blue_channel) + 50\n",
    "\treturn np.stack((red_channel, blue_channel, green_channel), axis=2)\n",
    "\n",
    "import time\n",
    "for i in range(200):\n",
    "\tframe= getTestCV2Frame(i)\n",
    "\tcv2_imshow('test',frame)\n",
    "\ttime.sleep(.1)\n"
   ]
  }
 ],
 "metadata": {
  "kernelspec": {
   "display_name": "Python 3",
   "language": "python",
   "name": "python3"
  },
  "language_info": {
   "codemirror_mode": {
    "name": "ipython",
    "version": 3
   },
   "file_extension": ".py",
   "mimetype": "text/x-python",
   "name": "python",
   "nbconvert_exporter": "python",
   "pygments_lexer": "ipython3",
   "version": "3.6.8"
  }
 },
 "nbformat": 4,
 "nbformat_minor": 5
}
